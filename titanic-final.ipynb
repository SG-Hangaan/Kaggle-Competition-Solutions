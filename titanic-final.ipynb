{
 "cells": [
  {
   "cell_type": "code",
   "execution_count": 1,
   "id": "e4d0c60e",
   "metadata": {
    "_cell_guid": "b1076dfc-b9ad-4769-8c92-a6c4dae69d19",
    "_uuid": "8f2839f25d086af736a60e9eeb907d3b93b6e0e5",
    "execution": {
     "iopub.execute_input": "2023-11-09T14:01:09.998590Z",
     "iopub.status.busy": "2023-11-09T14:01:09.997980Z",
     "iopub.status.idle": "2023-11-09T14:01:10.497510Z",
     "shell.execute_reply": "2023-11-09T14:01:10.496242Z"
    },
    "papermill": {
     "duration": 0.510799,
     "end_time": "2023-11-09T14:01:10.501351",
     "exception": false,
     "start_time": "2023-11-09T14:01:09.990552",
     "status": "completed"
    },
    "tags": []
   },
   "outputs": [
    {
     "name": "stdout",
     "output_type": "stream",
     "text": [
      "/kaggle/input/titanic/train.csv\n",
      "/kaggle/input/titanic/test.csv\n",
      "/kaggle/input/titanic/gender_submission.csv\n"
     ]
    }
   ],
   "source": [
    "# This Python 3 environment comes with many helpful analytics libraries installed\n",
    "# It is defined by the kaggle/python Docker image: https://github.com/kaggle/docker-python\n",
    "# For example, here's several helpful packages to load\n",
    "\n",
    "import numpy as np # linear algebra\n",
    "import pandas as pd # data processing, CSV file I/O (e.g. pd.read_csv)\n",
    "\n",
    "# Input data files are available in the read-only \"../input/\" directory\n",
    "# For example, running this (by clicking run or pressing Shift+Enter) will list all files under the input directory\n",
    "\n",
    "import os\n",
    "for dirname, _, filenames in os.walk('/kaggle/input'):\n",
    "    for filename in filenames:\n",
    "        print(os.path.join(dirname, filename))\n",
    "\n",
    "# You can write up to 20GB to the current directory (/kaggle/working/) that gets preserved as output when you create a version using \"Save & Run All\" \n",
    "# You can also write temporary files to /kaggle/temp/, but they won't be saved outside of the current session"
   ]
  },
  {
   "cell_type": "code",
   "execution_count": 2,
   "id": "8fb230db",
   "metadata": {
    "execution": {
     "iopub.execute_input": "2023-11-09T14:01:10.516208Z",
     "iopub.status.busy": "2023-11-09T14:01:10.515308Z",
     "iopub.status.idle": "2023-11-09T14:01:10.579070Z",
     "shell.execute_reply": "2023-11-09T14:01:10.577873Z"
    },
    "papermill": {
     "duration": 0.073879,
     "end_time": "2023-11-09T14:01:10.582674",
     "exception": false,
     "start_time": "2023-11-09T14:01:10.508795",
     "status": "completed"
    },
    "tags": []
   },
   "outputs": [],
   "source": [
    "import pandas as pd\n",
    "data = pd.read_csv(\"/kaggle/input/titanic/train.csv\")\n",
    "test = pd.read_csv(\"/kaggle/input/titanic/test.csv\")\n",
    "test_ids = test[\"PassengerId\"]\n",
    "\n",
    "def clean(data):\n",
    "    data = data.drop([\"Ticket\", \"Cabin\", \"Name\", \"PassengerId\"], axis = 1)\n",
    "    \n",
    "    cols = [\"SibSp\", \"Parch\", \"Fare\", \"Age\"]\n",
    "    for col in cols:\n",
    "        data[col].fillna(data[col].median(), inplace=True)\n",
    "        \n",
    "    #U is for unknown data for the Embarked Column\n",
    "    data.Embarked.fillna(\"U\", inplace=True)\n",
    "    return data\n",
    "\n",
    "data = clean(data)\n",
    "test = clean(test)"
   ]
  },
  {
   "cell_type": "code",
   "execution_count": 3,
   "id": "22baf1c3",
   "metadata": {
    "execution": {
     "iopub.execute_input": "2023-11-09T14:01:10.595164Z",
     "iopub.status.busy": "2023-11-09T14:01:10.594668Z",
     "iopub.status.idle": "2023-11-09T14:01:10.620624Z",
     "shell.execute_reply": "2023-11-09T14:01:10.618864Z"
    },
    "papermill": {
     "duration": 0.035417,
     "end_time": "2023-11-09T14:01:10.623581",
     "exception": false,
     "start_time": "2023-11-09T14:01:10.588164",
     "status": "completed"
    },
    "tags": []
   },
   "outputs": [
    {
     "data": {
      "text/html": [
       "<div>\n",
       "<style scoped>\n",
       "    .dataframe tbody tr th:only-of-type {\n",
       "        vertical-align: middle;\n",
       "    }\n",
       "\n",
       "    .dataframe tbody tr th {\n",
       "        vertical-align: top;\n",
       "    }\n",
       "\n",
       "    .dataframe thead th {\n",
       "        text-align: right;\n",
       "    }\n",
       "</style>\n",
       "<table border=\"1\" class=\"dataframe\">\n",
       "  <thead>\n",
       "    <tr style=\"text-align: right;\">\n",
       "      <th></th>\n",
       "      <th>Survived</th>\n",
       "      <th>Pclass</th>\n",
       "      <th>Sex</th>\n",
       "      <th>Age</th>\n",
       "      <th>SibSp</th>\n",
       "      <th>Parch</th>\n",
       "      <th>Fare</th>\n",
       "      <th>Embarked</th>\n",
       "    </tr>\n",
       "  </thead>\n",
       "  <tbody>\n",
       "    <tr>\n",
       "      <th>0</th>\n",
       "      <td>0</td>\n",
       "      <td>3</td>\n",
       "      <td>male</td>\n",
       "      <td>22.0</td>\n",
       "      <td>1</td>\n",
       "      <td>0</td>\n",
       "      <td>7.2500</td>\n",
       "      <td>S</td>\n",
       "    </tr>\n",
       "    <tr>\n",
       "      <th>1</th>\n",
       "      <td>1</td>\n",
       "      <td>1</td>\n",
       "      <td>female</td>\n",
       "      <td>38.0</td>\n",
       "      <td>1</td>\n",
       "      <td>0</td>\n",
       "      <td>71.2833</td>\n",
       "      <td>C</td>\n",
       "    </tr>\n",
       "    <tr>\n",
       "      <th>2</th>\n",
       "      <td>1</td>\n",
       "      <td>3</td>\n",
       "      <td>female</td>\n",
       "      <td>26.0</td>\n",
       "      <td>0</td>\n",
       "      <td>0</td>\n",
       "      <td>7.9250</td>\n",
       "      <td>S</td>\n",
       "    </tr>\n",
       "    <tr>\n",
       "      <th>3</th>\n",
       "      <td>1</td>\n",
       "      <td>1</td>\n",
       "      <td>female</td>\n",
       "      <td>35.0</td>\n",
       "      <td>1</td>\n",
       "      <td>0</td>\n",
       "      <td>53.1000</td>\n",
       "      <td>S</td>\n",
       "    </tr>\n",
       "    <tr>\n",
       "      <th>4</th>\n",
       "      <td>0</td>\n",
       "      <td>3</td>\n",
       "      <td>male</td>\n",
       "      <td>35.0</td>\n",
       "      <td>0</td>\n",
       "      <td>0</td>\n",
       "      <td>8.0500</td>\n",
       "      <td>S</td>\n",
       "    </tr>\n",
       "  </tbody>\n",
       "</table>\n",
       "</div>"
      ],
      "text/plain": [
       "   Survived  Pclass     Sex   Age  SibSp  Parch     Fare Embarked\n",
       "0         0       3    male  22.0      1      0   7.2500        S\n",
       "1         1       1  female  38.0      1      0  71.2833        C\n",
       "2         1       3  female  26.0      0      0   7.9250        S\n",
       "3         1       1  female  35.0      1      0  53.1000        S\n",
       "4         0       3    male  35.0      0      0   8.0500        S"
      ]
     },
     "execution_count": 3,
     "metadata": {},
     "output_type": "execute_result"
    }
   ],
   "source": [
    "data.head(5)"
   ]
  },
  {
   "cell_type": "code",
   "execution_count": 4,
   "id": "cb443022",
   "metadata": {
    "execution": {
     "iopub.execute_input": "2023-11-09T14:01:10.637809Z",
     "iopub.status.busy": "2023-11-09T14:01:10.636461Z",
     "iopub.status.idle": "2023-11-09T14:01:12.192708Z",
     "shell.execute_reply": "2023-11-09T14:01:12.191380Z"
    },
    "papermill": {
     "duration": 1.566738,
     "end_time": "2023-11-09T14:01:12.195743",
     "exception": false,
     "start_time": "2023-11-09T14:01:10.629005",
     "status": "completed"
    },
    "tags": []
   },
   "outputs": [
    {
     "name": "stdout",
     "output_type": "stream",
     "text": [
      "['female' 'male']\n",
      "['C' 'Q' 'S' 'U']\n"
     ]
    },
    {
     "data": {
      "text/html": [
       "<div>\n",
       "<style scoped>\n",
       "    .dataframe tbody tr th:only-of-type {\n",
       "        vertical-align: middle;\n",
       "    }\n",
       "\n",
       "    .dataframe tbody tr th {\n",
       "        vertical-align: top;\n",
       "    }\n",
       "\n",
       "    .dataframe thead th {\n",
       "        text-align: right;\n",
       "    }\n",
       "</style>\n",
       "<table border=\"1\" class=\"dataframe\">\n",
       "  <thead>\n",
       "    <tr style=\"text-align: right;\">\n",
       "      <th></th>\n",
       "      <th>Survived</th>\n",
       "      <th>Pclass</th>\n",
       "      <th>Sex</th>\n",
       "      <th>Age</th>\n",
       "      <th>SibSp</th>\n",
       "      <th>Parch</th>\n",
       "      <th>Fare</th>\n",
       "      <th>Embarked</th>\n",
       "    </tr>\n",
       "  </thead>\n",
       "  <tbody>\n",
       "    <tr>\n",
       "      <th>0</th>\n",
       "      <td>0</td>\n",
       "      <td>3</td>\n",
       "      <td>1</td>\n",
       "      <td>22.0</td>\n",
       "      <td>1</td>\n",
       "      <td>0</td>\n",
       "      <td>7.2500</td>\n",
       "      <td>2</td>\n",
       "    </tr>\n",
       "    <tr>\n",
       "      <th>1</th>\n",
       "      <td>1</td>\n",
       "      <td>1</td>\n",
       "      <td>0</td>\n",
       "      <td>38.0</td>\n",
       "      <td>1</td>\n",
       "      <td>0</td>\n",
       "      <td>71.2833</td>\n",
       "      <td>0</td>\n",
       "    </tr>\n",
       "    <tr>\n",
       "      <th>2</th>\n",
       "      <td>1</td>\n",
       "      <td>3</td>\n",
       "      <td>0</td>\n",
       "      <td>26.0</td>\n",
       "      <td>0</td>\n",
       "      <td>0</td>\n",
       "      <td>7.9250</td>\n",
       "      <td>2</td>\n",
       "    </tr>\n",
       "    <tr>\n",
       "      <th>3</th>\n",
       "      <td>1</td>\n",
       "      <td>1</td>\n",
       "      <td>0</td>\n",
       "      <td>35.0</td>\n",
       "      <td>1</td>\n",
       "      <td>0</td>\n",
       "      <td>53.1000</td>\n",
       "      <td>2</td>\n",
       "    </tr>\n",
       "    <tr>\n",
       "      <th>4</th>\n",
       "      <td>0</td>\n",
       "      <td>3</td>\n",
       "      <td>1</td>\n",
       "      <td>35.0</td>\n",
       "      <td>0</td>\n",
       "      <td>0</td>\n",
       "      <td>8.0500</td>\n",
       "      <td>2</td>\n",
       "    </tr>\n",
       "  </tbody>\n",
       "</table>\n",
       "</div>"
      ],
      "text/plain": [
       "   Survived  Pclass  Sex   Age  SibSp  Parch     Fare  Embarked\n",
       "0         0       3    1  22.0      1      0   7.2500         2\n",
       "1         1       1    0  38.0      1      0  71.2833         0\n",
       "2         1       3    0  26.0      0      0   7.9250         2\n",
       "3         1       1    0  35.0      1      0  53.1000         2\n",
       "4         0       3    1  35.0      0      0   8.0500         2"
      ]
     },
     "execution_count": 4,
     "metadata": {},
     "output_type": "execute_result"
    }
   ],
   "source": [
    "from sklearn import preprocessing\n",
    "le = preprocessing.LabelEncoder()\n",
    "\n",
    "cols = [\"Sex\", \"Embarked\"]\n",
    "\n",
    "for col in cols:\n",
    "    data[col] = le.fit_transform(data[col])\n",
    "    test[col] = le.transform(test[col])\n",
    "    print(le.classes_)\n",
    "    \n",
    "data.head(5)\n",
    "\n",
    "#Female is 0 and Male is 1"
   ]
  },
  {
   "cell_type": "code",
   "execution_count": 5,
   "id": "48e5346d",
   "metadata": {
    "execution": {
     "iopub.execute_input": "2023-11-09T14:01:12.211080Z",
     "iopub.status.busy": "2023-11-09T14:01:12.210089Z",
     "iopub.status.idle": "2023-11-09T14:01:12.511578Z",
     "shell.execute_reply": "2023-11-09T14:01:12.510203Z"
    },
    "papermill": {
     "duration": 0.312943,
     "end_time": "2023-11-09T14:01:12.515059",
     "exception": false,
     "start_time": "2023-11-09T14:01:12.202116",
     "status": "completed"
    },
    "tags": []
   },
   "outputs": [],
   "source": [
    "from sklearn.linear_model import LogisticRegression\n",
    "from sklearn.model_selection import train_test_split\n",
    "\n",
    "y = data[\"Survived\"]\n",
    "x = data.drop(\"Survived\", axis = 1)\n",
    "\n",
    "x_train, x_val, y_train, y_val = train_test_split(x, y, test_size = 0.2, random_state = 42)\n"
   ]
  },
  {
   "cell_type": "code",
   "execution_count": 6,
   "id": "0b2e6a91",
   "metadata": {
    "execution": {
     "iopub.execute_input": "2023-11-09T14:01:12.530261Z",
     "iopub.status.busy": "2023-11-09T14:01:12.529754Z",
     "iopub.status.idle": "2023-11-09T14:01:12.578793Z",
     "shell.execute_reply": "2023-11-09T14:01:12.577271Z"
    },
    "papermill": {
     "duration": 0.060696,
     "end_time": "2023-11-09T14:01:12.582203",
     "exception": false,
     "start_time": "2023-11-09T14:01:12.521507",
     "status": "completed"
    },
    "tags": []
   },
   "outputs": [],
   "source": [
    "clf = LogisticRegression(random_state=0, max_iter = 1000).fit(x_train, y_train)"
   ]
  },
  {
   "cell_type": "code",
   "execution_count": 7,
   "id": "07c8f05c",
   "metadata": {
    "execution": {
     "iopub.execute_input": "2023-11-09T14:01:12.596014Z",
     "iopub.status.busy": "2023-11-09T14:01:12.594938Z",
     "iopub.status.idle": "2023-11-09T14:01:12.608680Z",
     "shell.execute_reply": "2023-11-09T14:01:12.607304Z"
    },
    "papermill": {
     "duration": 0.023665,
     "end_time": "2023-11-09T14:01:12.611460",
     "exception": false,
     "start_time": "2023-11-09T14:01:12.587795",
     "status": "completed"
    },
    "tags": []
   },
   "outputs": [
    {
     "data": {
      "text/plain": [
       "0.8100558659217877"
      ]
     },
     "execution_count": 7,
     "metadata": {},
     "output_type": "execute_result"
    }
   ],
   "source": [
    "predictions = clf.predict(x_val)\n",
    "from sklearn.metrics import accuracy_score\n",
    "accuracy_score(y_val, predictions)"
   ]
  },
  {
   "cell_type": "code",
   "execution_count": 8,
   "id": "b82eb397",
   "metadata": {
    "execution": {
     "iopub.execute_input": "2023-11-09T14:01:12.625985Z",
     "iopub.status.busy": "2023-11-09T14:01:12.624864Z",
     "iopub.status.idle": "2023-11-09T14:01:12.635823Z",
     "shell.execute_reply": "2023-11-09T14:01:12.633968Z"
    },
    "papermill": {
     "duration": 0.021532,
     "end_time": "2023-11-09T14:01:12.638798",
     "exception": false,
     "start_time": "2023-11-09T14:01:12.617266",
     "status": "completed"
    },
    "tags": []
   },
   "outputs": [],
   "source": [
    "submission_preds = clf.predict(test)"
   ]
  },
  {
   "cell_type": "code",
   "execution_count": 9,
   "id": "1a373900",
   "metadata": {
    "execution": {
     "iopub.execute_input": "2023-11-09T14:01:12.652673Z",
     "iopub.status.busy": "2023-11-09T14:01:12.652098Z",
     "iopub.status.idle": "2023-11-09T14:01:12.661450Z",
     "shell.execute_reply": "2023-11-09T14:01:12.659834Z"
    },
    "papermill": {
     "duration": 0.019846,
     "end_time": "2023-11-09T14:01:12.664351",
     "exception": false,
     "start_time": "2023-11-09T14:01:12.644505",
     "status": "completed"
    },
    "tags": []
   },
   "outputs": [],
   "source": [
    "df = pd.DataFrame({\"PassengerId\":test_ids.values,\"Survived\": submission_preds,})"
   ]
  },
  {
   "cell_type": "code",
   "execution_count": 10,
   "id": "7e45c38b",
   "metadata": {
    "execution": {
     "iopub.execute_input": "2023-11-09T14:01:12.682024Z",
     "iopub.status.busy": "2023-11-09T14:01:12.680831Z",
     "iopub.status.idle": "2023-11-09T14:01:12.808594Z",
     "shell.execute_reply": "2023-11-09T14:01:12.807351Z"
    },
    "papermill": {
     "duration": 0.140953,
     "end_time": "2023-11-09T14:01:12.812208",
     "exception": false,
     "start_time": "2023-11-09T14:01:12.671255",
     "status": "completed"
    },
    "tags": []
   },
   "outputs": [],
   "source": [
    "df.to_csv(\"submission.csv\", index=False)"
   ]
  }
 ],
 "metadata": {
  "kernelspec": {
   "display_name": "Python 3",
   "language": "python",
   "name": "python3"
  },
  "language_info": {
   "codemirror_mode": {
    "name": "ipython",
    "version": 3
   },
   "file_extension": ".py",
   "mimetype": "text/x-python",
   "name": "python",
   "nbconvert_exporter": "python",
   "pygments_lexer": "ipython3",
   "version": "3.10.12"
  },
  "papermill": {
   "default_parameters": {},
   "duration": 7.816372,
   "end_time": "2023-11-09T14:01:13.644506",
   "environment_variables": {},
   "exception": null,
   "input_path": "__notebook__.ipynb",
   "output_path": "__notebook__.ipynb",
   "parameters": {},
   "start_time": "2023-11-09T14:01:05.828134",
   "version": "2.4.0"
  }
 },
 "nbformat": 4,
 "nbformat_minor": 5
}
